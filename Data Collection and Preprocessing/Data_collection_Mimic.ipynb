{
  "cells": [
    {
      "cell_type": "code",
      "execution_count": null,
      "metadata": {
        "colab": {
          "base_uri": "https://localhost:8080/"
        },
        "id": "NQdu8Cuk4x9y",
        "outputId": "0abbfbd4-4e80-40b2-8a85-bf4a87f94b50"
      },
      "outputs": [
        {
          "name": "stdout",
          "output_type": "stream",
          "text": [
            "Requirement already satisfied: pandas in /usr/local/lib/python3.11/dist-packages (2.2.2)\n",
            "Collecting pydicom\n",
            "  Downloading pydicom-3.0.1-py3-none-any.whl.metadata (9.4 kB)\n",
            "Requirement already satisfied: numpy in /usr/local/lib/python3.11/dist-packages (2.0.2)\n",
            "Requirement already satisfied: opencv-python in /usr/local/lib/python3.11/dist-packages (4.11.0.86)\n",
            "Requirement already satisfied: requests in /usr/local/lib/python3.11/dist-packages (2.32.3)\n",
            "Requirement already satisfied: tqdm in /usr/local/lib/python3.11/dist-packages (4.67.1)\n",
            "Requirement already satisfied: google-cloud-storage in /usr/local/lib/python3.11/dist-packages (2.19.0)\n",
            "Requirement already satisfied: python-dateutil>=2.8.2 in /usr/local/lib/python3.11/dist-packages (from pandas) (2.9.0.post0)\n",
            "Requirement already satisfied: pytz>=2020.1 in /usr/local/lib/python3.11/dist-packages (from pandas) (2025.2)\n",
            "Requirement already satisfied: tzdata>=2022.7 in /usr/local/lib/python3.11/dist-packages (from pandas) (2025.2)\n",
            "Requirement already satisfied: charset-normalizer<4,>=2 in /usr/local/lib/python3.11/dist-packages (from requests) (3.4.2)\n",
            "Requirement already satisfied: idna<4,>=2.5 in /usr/local/lib/python3.11/dist-packages (from requests) (3.10)\n",
            "Requirement already satisfied: urllib3<3,>=1.21.1 in /usr/local/lib/python3.11/dist-packages (from requests) (2.4.0)\n",
            "Requirement already satisfied: certifi>=2017.4.17 in /usr/local/lib/python3.11/dist-packages (from requests) (2025.6.15)\n",
            "Requirement already satisfied: google-auth<3.0dev,>=2.26.1 in /usr/local/lib/python3.11/dist-packages (from google-cloud-storage) (2.38.0)\n",
            "Requirement already satisfied: google-api-core<3.0.0dev,>=2.15.0 in /usr/local/lib/python3.11/dist-packages (from google-cloud-storage) (2.25.1)\n",
            "Requirement already satisfied: google-cloud-core<3.0dev,>=2.3.0 in /usr/local/lib/python3.11/dist-packages (from google-cloud-storage) (2.4.3)\n",
            "Requirement already satisfied: google-resumable-media>=2.7.2 in /usr/local/lib/python3.11/dist-packages (from google-cloud-storage) (2.7.2)\n",
            "Requirement already satisfied: google-crc32c<2.0dev,>=1.0 in /usr/local/lib/python3.11/dist-packages (from google-cloud-storage) (1.7.1)\n",
            "Requirement already satisfied: googleapis-common-protos<2.0.0,>=1.56.2 in /usr/local/lib/python3.11/dist-packages (from google-api-core<3.0.0dev,>=2.15.0->google-cloud-storage) (1.70.0)\n",
            "Requirement already satisfied: protobuf!=3.20.0,!=3.20.1,!=4.21.0,!=4.21.1,!=4.21.2,!=4.21.3,!=4.21.4,!=4.21.5,<7.0.0,>=3.19.5 in /usr/local/lib/python3.11/dist-packages (from google-api-core<3.0.0dev,>=2.15.0->google-cloud-storage) (5.29.5)\n",
            "Requirement already satisfied: proto-plus<2.0.0,>=1.22.3 in /usr/local/lib/python3.11/dist-packages (from google-api-core<3.0.0dev,>=2.15.0->google-cloud-storage) (1.26.1)\n",
            "Requirement already satisfied: cachetools<6.0,>=2.0.0 in /usr/local/lib/python3.11/dist-packages (from google-auth<3.0dev,>=2.26.1->google-cloud-storage) (5.5.2)\n",
            "Requirement already satisfied: pyasn1-modules>=0.2.1 in /usr/local/lib/python3.11/dist-packages (from google-auth<3.0dev,>=2.26.1->google-cloud-storage) (0.4.2)\n",
            "Requirement already satisfied: rsa<5,>=3.1.4 in /usr/local/lib/python3.11/dist-packages (from google-auth<3.0dev,>=2.26.1->google-cloud-storage) (4.9.1)\n",
            "Requirement already satisfied: six>=1.5 in /usr/local/lib/python3.11/dist-packages (from python-dateutil>=2.8.2->pandas) (1.17.0)\n",
            "Requirement already satisfied: pyasn1<0.7.0,>=0.6.1 in /usr/local/lib/python3.11/dist-packages (from pyasn1-modules>=0.2.1->google-auth<3.0dev,>=2.26.1->google-cloud-storage) (0.6.1)\n",
            "Downloading pydicom-3.0.1-py3-none-any.whl (2.4 MB)\n",
            "\u001b[2K   \u001b[90m━━━━━━━━━━━━━━━━━━━━━━━━━━━━━━━━━━━━━━━━\u001b[0m \u001b[32m2.4/2.4 MB\u001b[0m \u001b[31m17.6 MB/s\u001b[0m eta \u001b[36m0:00:00\u001b[0m\n",
            "\u001b[?25hInstalling collected packages: pydicom\n",
            "Successfully installed pydicom-3.0.1\n"
          ]
        }
      ],
      "source": [
        "!pip install pandas pydicom numpy opencv-python requests tqdm google-cloud-storage"
      ]
    },
    {
      "cell_type": "markdown",
      "metadata": {},
      "source": [
        "#### Google Drive and Colab Auth"
      ]
    },
    {
      "cell_type": "code",
      "execution_count": null,
      "metadata": {
        "colab": {
          "base_uri": "https://localhost:8080/"
        },
        "id": "5jiNWNkn49wf",
        "outputId": "9ea5ef88-216c-4959-dc43-ad6e641b8582"
      },
      "outputs": [
        {
          "name": "stdout",
          "output_type": "stream",
          "text": [
            "Mounted at /content/drive\n"
          ]
        }
      ],
      "source": [
        "from google.colab import drive\n",
        "drive.mount('/content/drive')"
      ]
    },
    {
      "cell_type": "code",
      "execution_count": null,
      "metadata": {
        "id": "pYVXd0zkVGjR"
      },
      "outputs": [],
      "source": [
        "from google.colab import auth\n",
        "auth.authenticate_user()"
      ]
    },
    {
      "cell_type": "markdown",
      "metadata": {},
      "source": [
        "#### Importing Required Libraries"
      ]
    },
    {
      "cell_type": "code",
      "execution_count": null,
      "metadata": {
        "colab": {
          "base_uri": "https://localhost:8080/"
        },
        "id": "U2vt920G4eg7",
        "outputId": "3e9590b6-0193-45c4-8cd5-2b926693669a"
      },
      "outputs": [
        {
          "name": "stderr",
          "output_type": "stream",
          "text": [
            "WARNING:pydicom:The 'pydicom.pixel_data_handlers' module will be removed in v4.0, please use 'from pydicom.pixels import apply_voi_lut' instead\n"
          ]
        }
      ],
      "source": [
        "import os\n",
        "import pandas as pd\n",
        "import pydicom\n",
        "from pydicom.pixel_data_handlers.util import apply_voi_lut\n",
        "import numpy as np\n",
        "import cv2\n",
        "from tqdm import tqdm\n",
        "import zipfile\n",
        "import re\n",
        "import subprocess\n",
        "from google.colab import drive\n",
        "from google.cloud import storage\n",
        "\n",
        "\n",
        "EXCEL_PATH = '/content/drive/MyDrive/Dual view Slava/cxr-record-list.csv'\n",
        "REPORTS_ZIP_PATH = '/content/drive/MyDrive/Dual view Slava/mimic-cxr-reports.zip'\n",
        "OUTPUT_JPEG_DIR = '/content/drive/MyDrive/Dual view Slava/CXR_IMAGES'\n",
        "TEMP_DIR = '/content/temp'\n",
        "DICOM_CACHE_DIR = '/content/drive/MyDrive/Dual view Slava/dicom_cache'\n",
        "PROGRESS_CSV = '/content/drive/MyDrive/Dual view Slava/download_progress.csv'\n",
        "\n",
        "# Create directories\n",
        "os.makedirs(OUTPUT_JPEG_DIR, exist_ok=True)\n",
        "os.makedirs(TEMP_DIR, exist_ok=True)\n",
        "os.makedirs(DICOM_CACHE_DIR, exist_ok=True)\n",
        "\n"
      ]
    },
    {
      "cell_type": "markdown",
      "metadata": {},
      "source": [
        "#### GCS (Google Cloud Storage) Setup"
      ]
    },
    {
      "cell_type": "markdown",
      "metadata": {},
      "source": [
        "Initializes the GCS client using your project ID and connects to the MIMIC-CXR bucket.\n",
        "Ensure you have access to the MIMIC-CXR v2 Google Cloud bucket."
      ]
    },
    {
      "cell_type": "code",
      "execution_count": null,
      "metadata": {
        "id": "m7n_sxp28U21"
      },
      "outputs": [],
      "source": [
        "project_id = 'myproject64137'\n",
        "client = storage.Client(project=project_id)\n",
        "bucket_name = 'mimic-cxr-2.0.0.physionet.org'\n",
        "bucket = client.bucket(bucket_name, user_project=project_id)"
      ]
    },
    {
      "cell_type": "markdown",
      "metadata": {},
      "source": [
        "####  Initialize Progress CSV\n",
        "\n",
        "Checks if a local progress file exists for keeping track of processed studies.\n",
        "If it doesn't exist, a new one is created."
      ]
    },
    {
      "cell_type": "code",
      "execution_count": null,
      "metadata": {
        "id": "16T4IH8OBDh3"
      },
      "outputs": [],
      "source": [
        "if not os.path.exists(PROGRESS_CSV):\n",
        "    with open(PROGRESS_CSV, 'w') as f:\n",
        "        f.write(\"study_id,subject_id,dicom_id,status,timestamp\\n\")\n"
      ]
    },
    {
      "cell_type": "markdown",
      "metadata": {},
      "source": [
        "#### Dynamically extract all reports from zip file"
      ]
    },
    {
      "cell_type": "code",
      "execution_count": null,
      "metadata": {
        "id": "g2LI5_bX65f1"
      },
      "outputs": [],
      "source": [
        "def extract_reports(zip_path):\n",
        "    reports = {}\n",
        "    with zipfile.ZipFile(zip_path, 'r') as zip_ref:\n",
        "\n",
        "        txt_files = [f for f in zip_ref.namelist() if f.endswith('.txt')]\n",
        "\n",
        "        for file_path in tqdm(txt_files, desc=\"Extracting reports\"):\n",
        "            try:\n",
        "\n",
        "                path_parts = file_path.split('/')\n",
        "\n",
        "\n",
        "                if len(path_parts) >= 4 and path_parts[-1].startswith('s'):\n",
        "                    with zip_ref.open(file_path) as f:\n",
        "                        content = f.read().decode('utf-8')\n",
        "\n",
        "\n",
        "                        subject_folder = path_parts[-2]\n",
        "                        study_file = path_parts[-1]\n",
        "\n",
        "\n",
        "                        subject_id = subject_folder[1:]\n",
        "                        study_id = study_file[1:-4]\n",
        "\n",
        "                        key = (subject_id, study_id)\n",
        "                        reports[key] = content\n",
        "            except Exception as e:\n",
        "                print(f\"Error processing {file_path}: {e}\")\n",
        "    return reports\n"
      ]
    },
    {
      "cell_type": "markdown",
      "metadata": {},
      "source": [
        " #### Identify Normal Impressions"
      ]
    },
    {
      "cell_type": "code",
      "execution_count": null,
      "metadata": {
        "id": "-MkjM-SluyU5"
      },
      "outputs": [],
      "source": [
        "def impression_starts_with_normal_phrases(report_text):\n",
        "    # Extract impression/conclusion/diagnosis section\n",
        "    impression_match = re.search(\n",
        "        r\"(IMPRESSION|CONCLUSION|DIAGNOSIS):\\s*(.*)\",\n",
        "        report_text, re.DOTALL | re.IGNORECASE\n",
        "    )\n",
        "    impression_text = impression_match.group(2).strip() if impression_match else ''\n",
        "\n",
        "    # Phrases considered as \"normal\" starts\n",
        "    starts_with_patterns = [\n",
        "        r\"^no\\b\",\n",
        "        r\"^no evidence\\b\",\n",
        "        r\"^no acute\\b\",\n",
        "        r\"^normal\\b\"\n",
        "    ]\n",
        "\n",
        "    # Common disease-related terms in chest X-ray\n",
        "    disease_patterns = [\n",
        "        r\"\\bcardiomegaly\\b\",\n",
        "        r\"\\bpneumonia\\b\",\n",
        "        r\"\\bconsolidation\\b\",\n",
        "        r\"\\bpleural effusion\\b\",\n",
        "        r\"\\binfiltrate[s]?\\b\",\n",
        "        r\"\\bedema\\b\",\n",
        "        r\"\\batelectasis\\b\",\n",
        "        r\"\\bopacity\\b\",\n",
        "        r\"\\bmass(es)?\\b\",\n",
        "        r\"\\bnodule(s)?\\b\",\n",
        "        r\"\\bfibrosis\\b\",\n",
        "        r\"\\bscarring\\b\",\n",
        "        r\"\\bpleural thickening\\b\",\n",
        "        r\"\\bpneumothorax\\b\",\n",
        "        r\"\\bemphysema\\b\",\n",
        "        r\"\\bhyperinflation\\b\",\n",
        "        r\"\\btuberculosis\\b\",\n",
        "        r\"\\binterstitial\\b\",\n",
        "        r\"\\bfracture(s)?\\b\",\n",
        "        r\"\\blesion(s)?\\b\",\n",
        "        r\"\\bcalcification(s)?\\b\",\n",
        "        r\"\\bbronchiectasis\\b\",\n",
        "        r\"\\bvascular congestion\\b\"\n",
        "    ]\n",
        "\n",
        "    # Check if starts with a normal phrase\n",
        "    starts_with_normal = any(\n",
        "        re.match(pattern, impression_text, re.IGNORECASE)\n",
        "        for pattern in starts_with_patterns\n",
        "    )\n",
        "\n",
        "    # Check if disease term is present\n",
        "    contains_disease = any(\n",
        "        re.search(pattern, impression_text, re.IGNORECASE)\n",
        "        for pattern in disease_patterns\n",
        "    )\n",
        "\n",
        "    # Return True only if not normal OR if disease is present\n",
        "    return not starts_with_normal or contains_disease"
      ]
    },
    {
      "cell_type": "markdown",
      "metadata": {},
      "source": [
        "####  Detect PA and Lateral Views"
      ]
    },
    {
      "cell_type": "code",
      "execution_count": null,
      "metadata": {
        "id": "fgdEEhC47Mj8"
      },
      "outputs": [],
      "source": [
        "def is_pa_and_lateral_study(report_text):\n",
        "\n",
        "    patterns = [\n",
        "        r'PA\\s+AND\\s+LAT',\n",
        "        r'PA\\/LAT',\n",
        "        r'PA\\s*&\\s*LAT',\n",
        "        r'PA\\s*\\+\\s*LAT',\n",
        "        r'PA\\s*AND\\s*LATERAL',\n",
        "        r'CHEST\\s*\\(PA\\s*AND\\s*LAT\\)'\n",
        "    ]\n",
        "    combined_pattern = '|'.join(patterns)\n",
        "    return bool(re.search(combined_pattern, report_text, re.IGNORECASE))"
      ]
    },
    {
      "cell_type": "markdown",
      "metadata": {},
      "source": [
        "#### Validate Report Sections"
      ]
    },
    {
      "cell_type": "code",
      "execution_count": null,
      "metadata": {
        "id": "3iI3g4b2HzDr"
      },
      "outputs": [],
      "source": [
        "def has_non_empty_findings_and_impression(report_text):\n",
        "    findings_match = re.search( r\"(FINDINGS|OBSERVATION|DESCRIPTION):\\s*(.*?)(IMPRESSION|CONCLUSION|DIAGNOSIS|$)\",  report_text, re.DOTALL | re.IGNORECASE)\n",
        "    impression_match = re.search(r\"(IMPRESSION|CONCLUSION|DIAGNOSIS):\\s*(.*)\", report_text, re.DOTALL | re.IGNORECASE)\n",
        "\n",
        "    findings_text = findings_match.group(1).strip() if findings_match else ''\n",
        "    impression_text = impression_match.group(1).strip() if impression_match else ''\n",
        "\n",
        "    return bool(findings_text) and bool(impression_text)"
      ]
    },
    {
      "cell_type": "code",
      "execution_count": null,
      "metadata": {
        "id": "zVgbvNdQZRvy"
      },
      "outputs": [],
      "source": [
        "def has_non_empty_findings_and_impression(report_text):\n",
        "    findings_match = re.search(r'FINDINGS:\\s*(.*?)(?:IMPRESSION:|$)', report_text, re.DOTALL | re.IGNORECASE)\n",
        "    impression_match = re.search(r'IMPRESSION:\\s*(.*)', report_text, re.DOTALL | re.IGNORECASE)\n",
        "\n",
        "    findings_text = findings_match.group(1).strip() if findings_match else ''\n",
        "    impression_text = impression_match.group(1).strip() if impression_match else ''\n",
        "\n",
        "    return bool(findings_text) and bool(impression_text)"
      ]
    },
    {
      "cell_type": "markdown",
      "metadata": {},
      "source": [
        "#### Convert DICOM to JPEG"
      ]
    },
    {
      "cell_type": "code",
      "execution_count": null,
      "metadata": {
        "id": "pvcbWTQP7O66"
      },
      "outputs": [],
      "source": [
        "def dicom_to_jpeg(dcm_path, study_dir):\n",
        "\n",
        "    try:\n",
        "        ds = pydicom.dcmread(dcm_path)\n",
        "        img = apply_voi_lut(ds.pixel_array, ds)\n",
        "        img = ((img - img.min()) / (img.max() - img.min()) * 255).astype(np.uint8)\n",
        "\n",
        "        if len(img.shape) == 3 and img.shape[2] == 3:\n",
        "            img = cv2.cvtColor(img, cv2.COLOR_RGB2GRAY)\n",
        "        output_jpg_path = os.path.join(study_dir, f'{ds.ViewPosition}.jpeg')\n",
        "        cv2.imwrite(output_jpg_path, img)\n",
        "        return True\n",
        "    except Exception as e:\n",
        "        print(f\"Error converting {dcm_path}: {e}\")\n",
        "        return False\n"
      ]
    },
    {
      "cell_type": "markdown",
      "metadata": {},
      "source": [
        "#### Get Local DICOM Path"
      ]
    },
    {
      "cell_type": "code",
      "execution_count": null,
      "metadata": {
        "id": "yUFp1U2Z7Sl6"
      },
      "outputs": [],
      "source": [
        "\n",
        "def get_dicom_path(local_base, remote_path):\n",
        "    \"\"\"Convert remote path to local cached path\"\"\"\n",
        "    return os.path.join(local_base, remote_path)\n"
      ]
    },
    {
      "cell_type": "markdown",
      "metadata": {},
      "source": [
        "##### Extracting reports from zip"
      ]
    },
    {
      "cell_type": "code",
      "execution_count": null,
      "metadata": {
        "colab": {
          "base_uri": "https://localhost:8080/"
        },
        "id": "tSIQSBLE7bz3",
        "outputId": "90e0691d-3817-4a97-ba41-f3ba3c83b37d"
      },
      "outputs": [
        {
          "name": "stdout",
          "output_type": "stream",
          "text": [
            "Extracting reports from zip...\n"
          ]
        },
        {
          "name": "stderr",
          "output_type": "stream",
          "text": [
            "Extracting reports: 100%|██████████| 227835/227835 [00:09<00:00, 25314.01it/s]\n"
          ]
        },
        {
          "name": "stdout",
          "output_type": "stream",
          "text": [
            "Found 227835 report files\n",
            "Identifying PA and lateral studies...\n"
          ]
        },
        {
          "name": "stderr",
          "output_type": "stream",
          "text": [
            "100%|██████████| 227835/227835 [00:27<00:00, 8275.60it/s] "
          ]
        },
        {
          "name": "stdout",
          "output_type": "stream",
          "text": [
            "Found 29028 studies with PA and lateral views\n"
          ]
        },
        {
          "name": "stderr",
          "output_type": "stream",
          "text": [
            "\n"
          ]
        }
      ],
      "source": [
        "df = pd.read_csv(EXCEL_PATH)\n",
        "\n",
        "\n",
        "print(\"Extracting reports from zip...\")\n",
        "reports = extract_reports(REPORTS_ZIP_PATH)\n",
        "print(f\"Found {len(reports)} report files\")\n",
        "grouped = df.groupby(['subject_id', 'study_id'])\n",
        "\n",
        "pa_lateral_studies = []\n",
        "print(\"Identifying PA and lateral studies...\")\n",
        "\n",
        "for (subject_id, study_id), group in tqdm(grouped):\n",
        "    report_key = (str(subject_id), str(study_id))\n",
        "    if report_key in reports:\n",
        "        report_text = reports[report_key]\n",
        "        if is_pa_and_lateral_study(report_text) and has_non_empty_findings_and_impression(report_text) and impression_starts_with_normal_phrases(report_text):\n",
        "            pa_lateral_studies.append((subject_id, study_id, group))\n",
        "\n",
        "print(f\"Found {len(pa_lateral_studies)} studies with PA and lateral views\")\n",
        "\n",
        "\n",
        "pa_lateral_studies_sorted = sorted(pa_lateral_studies, key=lambda x: x[1])"
      ]
    },
    {
      "cell_type": "markdown",
      "metadata": {},
      "source": [
        "#### Resume from Previous Progress"
      ]
    },
    {
      "cell_type": "code",
      "execution_count": null,
      "metadata": {
        "id": "gQS-nNL3C6nu"
      },
      "outputs": [],
      "source": [
        "if os.path.exists(PROGRESS_CSV):\n",
        "    progress_df = pd.read_csv(PROGRESS_CSV)\n",
        "    completed_studies = set(progress_df['study_id'].astype(str))\n",
        "else:\n",
        "    completed_studies = set()\n",
        "\n",
        "df = pd.read_csv(EXCEL_PATH)\n",
        "filtered_df = df[~df['study_id'].astype(str).isin(completed_studies)]\n"
      ]
    },
    {
      "cell_type": "code",
      "execution_count": null,
      "metadata": {
        "colab": {
          "base_uri": "https://localhost:8080/",
          "height": 423
        },
        "id": "s9triaSfDnMI",
        "outputId": "6c108c41-3270-4d51-a8b1-2b44ed366708"
      },
      "outputs": [
        {
          "data": {
            "application/vnd.google.colaboratory.intrinsic+json": {
              "type": "dataframe",
              "variable_name": "filtered_df"
            },
            "text/html": [
              "\n",
              "  <div id=\"df-9d70cc79-d377-48bd-888a-fdc68a964cb1\" class=\"colab-df-container\">\n",
              "    <div>\n",
              "<style scoped>\n",
              "    .dataframe tbody tr th:only-of-type {\n",
              "        vertical-align: middle;\n",
              "    }\n",
              "\n",
              "    .dataframe tbody tr th {\n",
              "        vertical-align: top;\n",
              "    }\n",
              "\n",
              "    .dataframe thead th {\n",
              "        text-align: right;\n",
              "    }\n",
              "</style>\n",
              "<table border=\"1\" class=\"dataframe\">\n",
              "  <thead>\n",
              "    <tr style=\"text-align: right;\">\n",
              "      <th></th>\n",
              "      <th>subject_id</th>\n",
              "      <th>study_id</th>\n",
              "      <th>dicom_id</th>\n",
              "      <th>path</th>\n",
              "    </tr>\n",
              "  </thead>\n",
              "  <tbody>\n",
              "    <tr>\n",
              "      <th>4</th>\n",
              "      <td>10000032</td>\n",
              "      <td>53911762</td>\n",
              "      <td>68b5c4b1-227d0485-9cc38c3f-7b84ab51-4b472714</td>\n",
              "      <td>files/p10/p10000032/s53911762/68b5c4b1-227d048...</td>\n",
              "    </tr>\n",
              "    <tr>\n",
              "      <th>5</th>\n",
              "      <td>10000032</td>\n",
              "      <td>53911762</td>\n",
              "      <td>fffabebf-74fd3a1f-673b6b41-96ec0ac9-2ab69818</td>\n",
              "      <td>files/p10/p10000032/s53911762/fffabebf-74fd3a1...</td>\n",
              "    </tr>\n",
              "    <tr>\n",
              "      <th>6</th>\n",
              "      <td>10000032</td>\n",
              "      <td>56699142</td>\n",
              "      <td>ea030e7a-2e3b1346-bc518786-7a8fd698-f673b44c</td>\n",
              "      <td>files/p10/p10000032/s56699142/ea030e7a-2e3b134...</td>\n",
              "    </tr>\n",
              "    <tr>\n",
              "      <th>12</th>\n",
              "      <td>10000898</td>\n",
              "      <td>54205396</td>\n",
              "      <td>8959e402-2175d68d-edba5a6c-baab51c3-9359f700</td>\n",
              "      <td>files/p10/p10000898/s54205396/8959e402-2175d68...</td>\n",
              "    </tr>\n",
              "    <tr>\n",
              "      <th>13</th>\n",
              "      <td>10000898</td>\n",
              "      <td>54205396</td>\n",
              "      <td>9e7a6aae-2580e589-6212d336-9813ebbd-a9239a34</td>\n",
              "      <td>files/p10/p10000898/s54205396/9e7a6aae-2580e58...</td>\n",
              "    </tr>\n",
              "    <tr>\n",
              "      <th>...</th>\n",
              "      <td>...</td>\n",
              "      <td>...</td>\n",
              "      <td>...</td>\n",
              "      <td>...</td>\n",
              "    </tr>\n",
              "    <tr>\n",
              "      <th>377105</th>\n",
              "      <td>19999733</td>\n",
              "      <td>57132437</td>\n",
              "      <td>428e2c18-5721d8f3-35a05001-36f3d080-9053b83c</td>\n",
              "      <td>files/p19/p19999733/s57132437/428e2c18-5721d8f...</td>\n",
              "    </tr>\n",
              "    <tr>\n",
              "      <th>377106</th>\n",
              "      <td>19999733</td>\n",
              "      <td>57132437</td>\n",
              "      <td>58c403aa-35ff8bd9-73e39f54-8dc9cc5d-e0ec3fa9</td>\n",
              "      <td>files/p19/p19999733/s57132437/58c403aa-35ff8bd...</td>\n",
              "    </tr>\n",
              "    <tr>\n",
              "      <th>377107</th>\n",
              "      <td>19999987</td>\n",
              "      <td>55368167</td>\n",
              "      <td>58766883-376a15ce-3b323a28-6af950a0-16b793bd</td>\n",
              "      <td>files/p19/p19999987/s55368167/58766883-376a15c...</td>\n",
              "    </tr>\n",
              "    <tr>\n",
              "      <th>377108</th>\n",
              "      <td>19999987</td>\n",
              "      <td>58621812</td>\n",
              "      <td>7ba273af-3d290f8d-e28d0ab4-484b7a86-7fc12b08</td>\n",
              "      <td>files/p19/p19999987/s58621812/7ba273af-3d290f8...</td>\n",
              "    </tr>\n",
              "    <tr>\n",
              "      <th>377109</th>\n",
              "      <td>19999987</td>\n",
              "      <td>58971208</td>\n",
              "      <td>1a1fe7e3-cbac5d93-b339aeda-86bb86b5-4f31e82e</td>\n",
              "      <td>files/p19/p19999987/s58971208/1a1fe7e3-cbac5d9...</td>\n",
              "    </tr>\n",
              "  </tbody>\n",
              "</table>\n",
              "<p>292987 rows × 4 columns</p>\n",
              "</div>\n",
              "    <div class=\"colab-df-buttons\">\n",
              "\n",
              "  <div class=\"colab-df-container\">\n",
              "    <button class=\"colab-df-convert\" onclick=\"convertToInteractive('df-9d70cc79-d377-48bd-888a-fdc68a964cb1')\"\n",
              "            title=\"Convert this dataframe to an interactive table.\"\n",
              "            style=\"display:none;\">\n",
              "\n",
              "  <svg xmlns=\"http://www.w3.org/2000/svg\" height=\"24px\" viewBox=\"0 -960 960 960\">\n",
              "    <path d=\"M120-120v-720h720v720H120Zm60-500h600v-160H180v160Zm220 220h160v-160H400v160Zm0 220h160v-160H400v160ZM180-400h160v-160H180v160Zm440 0h160v-160H620v160ZM180-180h160v-160H180v160Zm440 0h160v-160H620v160Z\"/>\n",
              "  </svg>\n",
              "    </button>\n",
              "\n",
              "  <style>\n",
              "    .colab-df-container {\n",
              "      display:flex;\n",
              "      gap: 12px;\n",
              "    }\n",
              "\n",
              "    .colab-df-convert {\n",
              "      background-color: #E8F0FE;\n",
              "      border: none;\n",
              "      border-radius: 50%;\n",
              "      cursor: pointer;\n",
              "      display: none;\n",
              "      fill: #1967D2;\n",
              "      height: 32px;\n",
              "      padding: 0 0 0 0;\n",
              "      width: 32px;\n",
              "    }\n",
              "\n",
              "    .colab-df-convert:hover {\n",
              "      background-color: #E2EBFA;\n",
              "      box-shadow: 0px 1px 2px rgba(60, 64, 67, 0.3), 0px 1px 3px 1px rgba(60, 64, 67, 0.15);\n",
              "      fill: #174EA6;\n",
              "    }\n",
              "\n",
              "    .colab-df-buttons div {\n",
              "      margin-bottom: 4px;\n",
              "    }\n",
              "\n",
              "    [theme=dark] .colab-df-convert {\n",
              "      background-color: #3B4455;\n",
              "      fill: #D2E3FC;\n",
              "    }\n",
              "\n",
              "    [theme=dark] .colab-df-convert:hover {\n",
              "      background-color: #434B5C;\n",
              "      box-shadow: 0px 1px 3px 1px rgba(0, 0, 0, 0.15);\n",
              "      filter: drop-shadow(0px 1px 2px rgba(0, 0, 0, 0.3));\n",
              "      fill: #FFFFFF;\n",
              "    }\n",
              "  </style>\n",
              "\n",
              "    <script>\n",
              "      const buttonEl =\n",
              "        document.querySelector('#df-9d70cc79-d377-48bd-888a-fdc68a964cb1 button.colab-df-convert');\n",
              "      buttonEl.style.display =\n",
              "        google.colab.kernel.accessAllowed ? 'block' : 'none';\n",
              "\n",
              "      async function convertToInteractive(key) {\n",
              "        const element = document.querySelector('#df-9d70cc79-d377-48bd-888a-fdc68a964cb1');\n",
              "        const dataTable =\n",
              "          await google.colab.kernel.invokeFunction('convertToInteractive',\n",
              "                                                    [key], {});\n",
              "        if (!dataTable) return;\n",
              "\n",
              "        const docLinkHtml = 'Like what you see? Visit the ' +\n",
              "          '<a target=\"_blank\" href=https://colab.research.google.com/notebooks/data_table.ipynb>data table notebook</a>'\n",
              "          + ' to learn more about interactive tables.';\n",
              "        element.innerHTML = '';\n",
              "        dataTable['output_type'] = 'display_data';\n",
              "        await google.colab.output.renderOutput(dataTable, element);\n",
              "        const docLink = document.createElement('div');\n",
              "        docLink.innerHTML = docLinkHtml;\n",
              "        element.appendChild(docLink);\n",
              "      }\n",
              "    </script>\n",
              "  </div>\n",
              "\n",
              "\n",
              "    <div id=\"df-565c5ee1-6fc1-4931-a2dd-635d40bf921e\">\n",
              "      <button class=\"colab-df-quickchart\" onclick=\"quickchart('df-565c5ee1-6fc1-4931-a2dd-635d40bf921e')\"\n",
              "                title=\"Suggest charts\"\n",
              "                style=\"display:none;\">\n",
              "\n",
              "<svg xmlns=\"http://www.w3.org/2000/svg\" height=\"24px\"viewBox=\"0 0 24 24\"\n",
              "     width=\"24px\">\n",
              "    <g>\n",
              "        <path d=\"M19 3H5c-1.1 0-2 .9-2 2v14c0 1.1.9 2 2 2h14c1.1 0 2-.9 2-2V5c0-1.1-.9-2-2-2zM9 17H7v-7h2v7zm4 0h-2V7h2v10zm4 0h-2v-4h2v4z\"/>\n",
              "    </g>\n",
              "</svg>\n",
              "      </button>\n",
              "\n",
              "<style>\n",
              "  .colab-df-quickchart {\n",
              "      --bg-color: #E8F0FE;\n",
              "      --fill-color: #1967D2;\n",
              "      --hover-bg-color: #E2EBFA;\n",
              "      --hover-fill-color: #174EA6;\n",
              "      --disabled-fill-color: #AAA;\n",
              "      --disabled-bg-color: #DDD;\n",
              "  }\n",
              "\n",
              "  [theme=dark] .colab-df-quickchart {\n",
              "      --bg-color: #3B4455;\n",
              "      --fill-color: #D2E3FC;\n",
              "      --hover-bg-color: #434B5C;\n",
              "      --hover-fill-color: #FFFFFF;\n",
              "      --disabled-bg-color: #3B4455;\n",
              "      --disabled-fill-color: #666;\n",
              "  }\n",
              "\n",
              "  .colab-df-quickchart {\n",
              "    background-color: var(--bg-color);\n",
              "    border: none;\n",
              "    border-radius: 50%;\n",
              "    cursor: pointer;\n",
              "    display: none;\n",
              "    fill: var(--fill-color);\n",
              "    height: 32px;\n",
              "    padding: 0;\n",
              "    width: 32px;\n",
              "  }\n",
              "\n",
              "  .colab-df-quickchart:hover {\n",
              "    background-color: var(--hover-bg-color);\n",
              "    box-shadow: 0 1px 2px rgba(60, 64, 67, 0.3), 0 1px 3px 1px rgba(60, 64, 67, 0.15);\n",
              "    fill: var(--button-hover-fill-color);\n",
              "  }\n",
              "\n",
              "  .colab-df-quickchart-complete:disabled,\n",
              "  .colab-df-quickchart-complete:disabled:hover {\n",
              "    background-color: var(--disabled-bg-color);\n",
              "    fill: var(--disabled-fill-color);\n",
              "    box-shadow: none;\n",
              "  }\n",
              "\n",
              "  .colab-df-spinner {\n",
              "    border: 2px solid var(--fill-color);\n",
              "    border-color: transparent;\n",
              "    border-bottom-color: var(--fill-color);\n",
              "    animation:\n",
              "      spin 1s steps(1) infinite;\n",
              "  }\n",
              "\n",
              "  @keyframes spin {\n",
              "    0% {\n",
              "      border-color: transparent;\n",
              "      border-bottom-color: var(--fill-color);\n",
              "      border-left-color: var(--fill-color);\n",
              "    }\n",
              "    20% {\n",
              "      border-color: transparent;\n",
              "      border-left-color: var(--fill-color);\n",
              "      border-top-color: var(--fill-color);\n",
              "    }\n",
              "    30% {\n",
              "      border-color: transparent;\n",
              "      border-left-color: var(--fill-color);\n",
              "      border-top-color: var(--fill-color);\n",
              "      border-right-color: var(--fill-color);\n",
              "    }\n",
              "    40% {\n",
              "      border-color: transparent;\n",
              "      border-right-color: var(--fill-color);\n",
              "      border-top-color: var(--fill-color);\n",
              "    }\n",
              "    60% {\n",
              "      border-color: transparent;\n",
              "      border-right-color: var(--fill-color);\n",
              "    }\n",
              "    80% {\n",
              "      border-color: transparent;\n",
              "      border-right-color: var(--fill-color);\n",
              "      border-bottom-color: var(--fill-color);\n",
              "    }\n",
              "    90% {\n",
              "      border-color: transparent;\n",
              "      border-bottom-color: var(--fill-color);\n",
              "    }\n",
              "  }\n",
              "</style>\n",
              "\n",
              "      <script>\n",
              "        async function quickchart(key) {\n",
              "          const quickchartButtonEl =\n",
              "            document.querySelector('#' + key + ' button');\n",
              "          quickchartButtonEl.disabled = true;  // To prevent multiple clicks.\n",
              "          quickchartButtonEl.classList.add('colab-df-spinner');\n",
              "          try {\n",
              "            const charts = await google.colab.kernel.invokeFunction(\n",
              "                'suggestCharts', [key], {});\n",
              "          } catch (error) {\n",
              "            console.error('Error during call to suggestCharts:', error);\n",
              "          }\n",
              "          quickchartButtonEl.classList.remove('colab-df-spinner');\n",
              "          quickchartButtonEl.classList.add('colab-df-quickchart-complete');\n",
              "        }\n",
              "        (() => {\n",
              "          let quickchartButtonEl =\n",
              "            document.querySelector('#df-565c5ee1-6fc1-4931-a2dd-635d40bf921e button');\n",
              "          quickchartButtonEl.style.display =\n",
              "            google.colab.kernel.accessAllowed ? 'block' : 'none';\n",
              "        })();\n",
              "      </script>\n",
              "    </div>\n",
              "\n",
              "  <div id=\"id_97b78189-5821-497a-9787-f88feb510981\">\n",
              "    <style>\n",
              "      .colab-df-generate {\n",
              "        background-color: #E8F0FE;\n",
              "        border: none;\n",
              "        border-radius: 50%;\n",
              "        cursor: pointer;\n",
              "        display: none;\n",
              "        fill: #1967D2;\n",
              "        height: 32px;\n",
              "        padding: 0 0 0 0;\n",
              "        width: 32px;\n",
              "      }\n",
              "\n",
              "      .colab-df-generate:hover {\n",
              "        background-color: #E2EBFA;\n",
              "        box-shadow: 0px 1px 2px rgba(60, 64, 67, 0.3), 0px 1px 3px 1px rgba(60, 64, 67, 0.15);\n",
              "        fill: #174EA6;\n",
              "      }\n",
              "\n",
              "      [theme=dark] .colab-df-generate {\n",
              "        background-color: #3B4455;\n",
              "        fill: #D2E3FC;\n",
              "      }\n",
              "\n",
              "      [theme=dark] .colab-df-generate:hover {\n",
              "        background-color: #434B5C;\n",
              "        box-shadow: 0px 1px 3px 1px rgba(0, 0, 0, 0.15);\n",
              "        filter: drop-shadow(0px 1px 2px rgba(0, 0, 0, 0.3));\n",
              "        fill: #FFFFFF;\n",
              "      }\n",
              "    </style>\n",
              "    <button class=\"colab-df-generate\" onclick=\"generateWithVariable('filtered_df')\"\n",
              "            title=\"Generate code using this dataframe.\"\n",
              "            style=\"display:none;\">\n",
              "\n",
              "  <svg xmlns=\"http://www.w3.org/2000/svg\" height=\"24px\"viewBox=\"0 0 24 24\"\n",
              "       width=\"24px\">\n",
              "    <path d=\"M7,19H8.4L18.45,9,17,7.55,7,17.6ZM5,21V16.75L18.45,3.32a2,2,0,0,1,2.83,0l1.4,1.43a1.91,1.91,0,0,1,.58,1.4,1.91,1.91,0,0,1-.58,1.4L9.25,21ZM18.45,9,17,7.55Zm-12,3A5.31,5.31,0,0,0,4.9,8.1,5.31,5.31,0,0,0,1,6.5,5.31,5.31,0,0,0,4.9,4.9,5.31,5.31,0,0,0,6.5,1,5.31,5.31,0,0,0,8.1,4.9,5.31,5.31,0,0,0,12,6.5,5.46,5.46,0,0,0,6.5,12Z\"/>\n",
              "  </svg>\n",
              "    </button>\n",
              "    <script>\n",
              "      (() => {\n",
              "      const buttonEl =\n",
              "        document.querySelector('#id_97b78189-5821-497a-9787-f88feb510981 button.colab-df-generate');\n",
              "      buttonEl.style.display =\n",
              "        google.colab.kernel.accessAllowed ? 'block' : 'none';\n",
              "\n",
              "      buttonEl.onclick = () => {\n",
              "        google.colab.notebook.generateWithVariable('filtered_df');\n",
              "      }\n",
              "      })();\n",
              "    </script>\n",
              "  </div>\n",
              "\n",
              "    </div>\n",
              "  </div>\n"
            ],
            "text/plain": [
              "        subject_id  study_id                                      dicom_id  \\\n",
              "4         10000032  53911762  68b5c4b1-227d0485-9cc38c3f-7b84ab51-4b472714   \n",
              "5         10000032  53911762  fffabebf-74fd3a1f-673b6b41-96ec0ac9-2ab69818   \n",
              "6         10000032  56699142  ea030e7a-2e3b1346-bc518786-7a8fd698-f673b44c   \n",
              "12        10000898  54205396  8959e402-2175d68d-edba5a6c-baab51c3-9359f700   \n",
              "13        10000898  54205396  9e7a6aae-2580e589-6212d336-9813ebbd-a9239a34   \n",
              "...            ...       ...                                           ...   \n",
              "377105    19999733  57132437  428e2c18-5721d8f3-35a05001-36f3d080-9053b83c   \n",
              "377106    19999733  57132437  58c403aa-35ff8bd9-73e39f54-8dc9cc5d-e0ec3fa9   \n",
              "377107    19999987  55368167  58766883-376a15ce-3b323a28-6af950a0-16b793bd   \n",
              "377108    19999987  58621812  7ba273af-3d290f8d-e28d0ab4-484b7a86-7fc12b08   \n",
              "377109    19999987  58971208  1a1fe7e3-cbac5d93-b339aeda-86bb86b5-4f31e82e   \n",
              "\n",
              "                                                     path  \n",
              "4       files/p10/p10000032/s53911762/68b5c4b1-227d048...  \n",
              "5       files/p10/p10000032/s53911762/fffabebf-74fd3a1...  \n",
              "6       files/p10/p10000032/s56699142/ea030e7a-2e3b134...  \n",
              "12      files/p10/p10000898/s54205396/8959e402-2175d68...  \n",
              "13      files/p10/p10000898/s54205396/9e7a6aae-2580e58...  \n",
              "...                                                   ...  \n",
              "377105  files/p19/p19999733/s57132437/428e2c18-5721d8f...  \n",
              "377106  files/p19/p19999733/s57132437/58c403aa-35ff8bd...  \n",
              "377107  files/p19/p19999987/s55368167/58766883-376a15c...  \n",
              "377108  files/p19/p19999987/s58621812/7ba273af-3d290f8...  \n",
              "377109  files/p19/p19999987/s58971208/1a1fe7e3-cbac5d9...  \n",
              "\n",
              "[292987 rows x 4 columns]"
            ]
          },
          "execution_count": 42,
          "metadata": {},
          "output_type": "execute_result"
        }
      ],
      "source": [
        "filtered_df"
      ]
    },
    {
      "cell_type": "markdown",
      "metadata": {},
      "source": [
        "#### Filter for Valid Studies"
      ]
    },
    {
      "cell_type": "code",
      "execution_count": null,
      "metadata": {
        "colab": {
          "base_uri": "https://localhost:8080/"
        },
        "id": "KVnisYtFKBy6",
        "outputId": "de3537bf-d3a0-4d99-a814-c08aaeac4ac7"
      },
      "outputs": [
        {
          "name": "stdout",
          "output_type": "stream",
          "text": [
            "Getting DICOM file path ...\n"
          ]
        }
      ],
      "source": [
        "\n",
        "print(\"Getting DICOM file path ...\")\n",
        "unique_paths = set()\n",
        "filtered_paths = set(filtered_df['path'])\n",
        "for _, _, dicom_paths in pa_lateral_studies:\n",
        "  for _, row in dicom_paths.iterrows():\n",
        "      if row['path'] in filtered_paths:\n",
        "            unique_paths.add(row['path'])\n",
        "\n",
        "unique_paths = sorted(\n",
        "    unique_paths,\n",
        "    key=lambda x: int(x.split('/')[3][1:])\n",
        ")"
      ]
    },
    {
      "cell_type": "code",
      "execution_count": null,
      "metadata": {
        "colab": {
          "base_uri": "https://localhost:8080/"
        },
        "id": "dA2zu2QOHJnt",
        "outputId": "8e5052d9-c182-450a-ff63-43b3ada6cd29"
      },
      "outputs": [
        {
          "name": "stdout",
          "output_type": "stream",
          "text": [
            "Number of unique studies to process: 1979\n",
            "Number of already processed studies: 39431\n",
            "Studies both in queue and completed: 0 (should be 0 after filtering)\n"
          ]
        }
      ],
      "source": [
        "unique_studies_in_paths = {path.split('/')[3] for path in unique_paths}\n",
        "print(f\"Number of unique studies to process: {len(unique_studies_in_paths)}\")\n",
        "\n",
        "\n",
        "if os.path.exists(PROGRESS_CSV):\n",
        "    progress_df = pd.read_csv(PROGRESS_CSV)\n",
        "    unique_studies_completed = set(progress_df['study_id'].astype(str))\n",
        "    print(f\"Number of already processed studies: {len(unique_studies_completed)}\")\n",
        "\n",
        "\n",
        "    overlap = unique_studies_in_paths & unique_studies_completed\n",
        "    print(f\"Studies both in queue and completed: {len(overlap)} (should be 0 after filtering)\")\n",
        "else:\n",
        "    print(\"No progress file found - starting fresh\")"
      ]
    },
    {
      "cell_type": "markdown",
      "metadata": {},
      "source": [
        "#### Download Dicom from GCP"
      ]
    },
    {
      "cell_type": "code",
      "execution_count": null,
      "metadata": {
        "id": "hpTaEgjoCIZP"
      },
      "outputs": [],
      "source": [
        "\n",
        "\n",
        "def download_dicom(blob_path, output_base_dir):\n",
        "    try:\n",
        "\n",
        "        relative_path = blob_path\n",
        "\n",
        "        local_path = os.path.join(output_base_dir,'physionet.org/files/mimic-cxr/2.0.0/'+ relative_path)\n",
        "        local_dir = os.path.dirname(local_path)\n",
        "\n",
        "        os.makedirs(local_dir, exist_ok=True)\n",
        "\n",
        "        blob = bucket.blob(blob_path)\n",
        "        with open(local_path, 'wb') as f:\n",
        "            blob.download_to_file(f)\n",
        "\n",
        "        # print(f\"Downloaded to {local_path}\")\n",
        "        return local_path\n",
        "\n",
        "    except Exception as e:\n",
        "        print(f\"Failed to download {blob_path}: {e}\")\n",
        "        return None\n"
      ]
    },
    {
      "cell_type": "markdown",
      "metadata": {},
      "source": [
        "##### Downloading and processing DICOMs"
      ]
    },
    {
      "cell_type": "code",
      "execution_count": null,
      "metadata": {
        "colab": {
          "base_uri": "https://localhost:8080/"
        },
        "id": "v6Ez9InNM2Nu",
        "outputId": "fff1c879-1ae4-4e28-8008-272bece0d4bf"
      },
      "outputs": [
        {
          "name": "stdout",
          "output_type": "stream",
          "text": [
            "Downloading and processing DICOMs...\n"
          ]
        },
        {
          "name": "stderr",
          "output_type": "stream",
          "text": [
            "Processing: 100%|██████████| 4294/4294 [1:29:13<00:00,  1.25s/it]"
          ]
        },
        {
          "name": "stdout",
          "output_type": "stream",
          "text": [
            "Processing complete! JPEGs saved in /content/drive/MyDrive/Dual view Slava/CXR_IMAGES\n"
          ]
        },
        {
          "name": "stderr",
          "output_type": "stream",
          "text": [
            "\n"
          ]
        }
      ],
      "source": [
        "\n",
        "\n",
        "base_url = 'https://physionet.org/files/mimic-cxr/2.0.0/'\n",
        "\n",
        "# count= 0\n",
        "print(\"Downloading and processing DICOMs...\")\n",
        "for path in tqdm(unique_paths, desc=\"Processing\"):\n",
        "  # if count<10000:\n",
        "      path_parts = path.split('/')\n",
        "      study_id = path_parts[3][1:]\n",
        "      remote_url = base_url + path\n",
        "      dcm_filename = os.path.basename(path)\n",
        "      dicom_id = dcm_filename.split('.')[0]\n",
        "      download_dicom(path, DICOM_CACHE_DIR)\n",
        "      study_dir = os.path.join(OUTPUT_JPEG_DIR, study_id)\n",
        "      os.makedirs(study_dir, exist_ok=True)\n",
        "      local_dcm_path = get_dicom_path(DICOM_CACHE_DIR,'physionet.org/files/mimic-cxr/2.0.0/'+path)\n",
        "\n",
        "      dicom_to_jpeg(local_dcm_path,study_dir)\n",
        "\n",
        "      temp_dcm = os.path.join(DICOM_CACHE_DIR, 'physionet.org/files/mimic-cxr/2.0.0/'+path)\n",
        "\n",
        "      if os.path.exists(temp_dcm) and os.path.isfile(temp_dcm):\n",
        "        with open(PROGRESS_CSV, 'a') as f:\n",
        "                f.write(f\"{study_id},{subject_id},{dicom_id},success,{pd.Timestamp.now()}\\n\")\n",
        "        os.remove(temp_dcm)\n",
        "        # print(f\"Removed temporary DICOM: {temp_dcm}\")\n",
        "      else:\n",
        "          print(f\"File not found or is a directory: {temp_dcm}\")\n",
        "      # count+=1;\n",
        "\n",
        "print(f\"Processing complete! JPEGs saved in {OUTPUT_JPEG_DIR}\")"
      ]
    }
  ],
  "metadata": {
    "colab": {
      "provenance": []
    },
    "kernelspec": {
      "display_name": "Python 3",
      "name": "python3"
    },
    "language_info": {
      "name": "python"
    }
  },
  "nbformat": 4,
  "nbformat_minor": 0
}
